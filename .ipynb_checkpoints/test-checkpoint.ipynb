{
 "cells": [
  {
   "cell_type": "markdown",
   "metadata": {},
   "source": [
    "### Q-Learning"
   ]
  },
  {
   "cell_type": "code",
   "execution_count": 32,
   "metadata": {},
   "outputs": [],
   "source": [
    "# 生成できる環境の一覧を取得\n",
    "import numpy as np\n",
    "from gym import envs\n",
    "envids = [spec.id for spec in envs.registry.all()]"
   ]
  },
  {
   "cell_type": "code",
   "execution_count": 17,
   "metadata": {},
   "outputs": [
    {
     "name": "stdout",
     "output_type": "stream",
     "text": [
      "\u001b[33mWARN: gym.spaces.Box autodetected dtype as <class 'numpy.float32'>. Please provide explicit dtype.\u001b[0m\n"
     ]
    }
   ],
   "source": [
    "#  環境インスタンスを作成\n",
    "import gym\n",
    "env = gym.make('MountainCar-v0')\n",
    "\n",
    "# 環境を初期化\n",
    "observation = env.reset()"
   ]
  },
  {
   "cell_type": "code",
   "execution_count": 18,
   "metadata": {},
   "outputs": [
    {
     "name": "stdout",
     "output_type": "stream",
     "text": [
      "[0.6  0.07]\n",
      "[-1.2  -0.07]\n",
      "Box(2,)\n"
     ]
    }
   ],
   "source": [
    "# 観測データの最大値\n",
    "print(env.observation_space.high)\n",
    "# 観測データの最小値\n",
    "print(env.observation_space.low)\n",
    "# 観測データの配列次元\n",
    "print(env.observation_space)"
   ]
  },
  {
   "cell_type": "markdown",
   "metadata": {},
   "source": [
    "#### エージェントを動かす"
   ]
  },
  {
   "cell_type": "code",
   "execution_count": 10,
   "metadata": {},
   "outputs": [],
   "source": [
    "# 左\n",
    "action = 0\n",
    "observation, reward, done, info = env.step(action)"
   ]
  },
  {
   "cell_type": "code",
   "execution_count": 19,
   "metadata": {},
   "outputs": [],
   "source": [
    "def get_status(_observation):\n",
    "    env_low = env.observation_space.low # 位置と速度の最小値\n",
    "    env_high = env.observation_space.high #　位置と速度の最大値\n",
    "    env_dx = (env_high - env_low) / 40 # 40等分\n",
    "    # 0〜39の離散値に変換する\n",
    "    position = int((_observation[0] - env_low[0])/env_dx[0])\n",
    "    velocity = int((_observation[1] - env_low[1])/env_dx[1])\n",
    "    return position, velocity"
   ]
  },
  {
   "cell_type": "code",
   "execution_count": 20,
   "metadata": {},
   "outputs": [
    {
     "ename": "NameError",
     "evalue": "name 'np' is not defined",
     "output_type": "error",
     "traceback": [
      "\u001b[0;31m---------------------------------------------------------------------------\u001b[0m",
      "\u001b[0;31mNameError\u001b[0m                                 Traceback (most recent call last)",
      "\u001b[0;32m<ipython-input-20-add6f20e28fe>\u001b[0m in \u001b[0;36m<module>\u001b[0;34m()\u001b[0m\n\u001b[1;32m      1\u001b[0m \u001b[0;31m# Qテーブルの定義\u001b[0m\u001b[0;34m\u001b[0m\u001b[0;34m\u001b[0m\u001b[0m\n\u001b[0;32m----> 2\u001b[0;31m \u001b[0mq_table\u001b[0m \u001b[0;34m=\u001b[0m \u001b[0mnp\u001b[0m\u001b[0;34m.\u001b[0m\u001b[0mzeros\u001b[0m\u001b[0;34m(\u001b[0m\u001b[0;34m(\u001b[0m\u001b[0;36m40\u001b[0m\u001b[0;34m,\u001b[0m \u001b[0;36m40\u001b[0m\u001b[0;34m,\u001b[0m \u001b[0;36m3\u001b[0m\u001b[0;34m)\u001b[0m\u001b[0;34m)\u001b[0m\u001b[0;34m\u001b[0m\u001b[0m\n\u001b[0m",
      "\u001b[0;31mNameError\u001b[0m: name 'np' is not defined"
     ]
    }
   ],
   "source": [
    "# Qテーブルの定義\n",
    "q_table = np.zeros((40, 40, 3))"
   ]
  },
  {
   "cell_type": "code",
   "execution_count": 29,
   "metadata": {},
   "outputs": [],
   "source": [
    "# Qテーブルの更新\n",
    "def update_q_table(_q_table, _action,  _observation, _next_observation, _reward, _episode):\n",
    "\n",
    "    alpha = 0.2 # 学習率\n",
    "    gamma = 0.99 # 時間割引率\n",
    "\n",
    "    # 行動後の状態で得られる最大行動価値 Q(s',a')\n",
    "    next_position, next_velocity = get_status(_next_observation)\n",
    "    next_max_q_value = max(_q_table[next_position][next_velocity])\n",
    "\n",
    "    # 行動前の状態の行動価値 Q(s,a)\n",
    "    position, velocity = get_status(_observation)\n",
    "    q_value = _q_table[position][velocity][_action]\n",
    "\n",
    "    # 行動価値関数の更新\n",
    "    _q_table[position][velocity][_action] = q_value + alpha * (_reward + gamma * next_max_q_value - q_value)\n",
    "\n",
    "    return _q_table"
   ]
  },
  {
   "cell_type": "code",
   "execution_count": 30,
   "metadata": {},
   "outputs": [],
   "source": [
    "# ε-グリーディ法\n",
    "def get_action(_env, _q_table, _observation, _episode):\n",
    "    epsilon = 0.002\n",
    "    if np.random.uniform(0, 1) > epsilon:\n",
    "        position, velocity = get_status(observation)\n",
    "        _action = np.argmax(_q_table[position][velocity])\n",
    "    else:\n",
    "        _action = np.random.choice([0, 1, 2])\n",
    "    return _action"
   ]
  },
  {
   "cell_type": "code",
   "execution_count": 35,
   "metadata": {},
   "outputs": [
    {
     "name": "stdout",
     "output_type": "stream",
     "text": [
      "\u001b[33mWARN: gym.spaces.Box autodetected dtype as <class 'numpy.float32'>. Please provide explicit dtype.\u001b[0m\n",
      "episode: 0, total_reward: -200.0\n"
     ]
    },
    {
     "ename": "NameError",
     "evalue": "name 'rewards' is not defined",
     "output_type": "error",
     "traceback": [
      "\u001b[0;31m---------------------------------------------------------------------------\u001b[0m",
      "\u001b[0;31mNameError\u001b[0m                                 Traceback (most recent call last)",
      "\u001b[0;32m<ipython-input-35-f4ddca497b58>\u001b[0m in \u001b[0;36m<module>\u001b[0;34m()\u001b[0m\n\u001b[1;32m     33\u001b[0m                 \u001b[0;32mif\u001b[0m \u001b[0mepisode\u001b[0m\u001b[0;34m%\u001b[0m\u001b[0;36m100\u001b[0m \u001b[0;34m==\u001b[0m \u001b[0;36m0\u001b[0m\u001b[0;34m:\u001b[0m\u001b[0;34m\u001b[0m\u001b[0m\n\u001b[1;32m     34\u001b[0m                     \u001b[0mprint\u001b[0m\u001b[0;34m(\u001b[0m\u001b[0;34m'episode: {}, total_reward: {}'\u001b[0m\u001b[0;34m.\u001b[0m\u001b[0mformat\u001b[0m\u001b[0;34m(\u001b[0m\u001b[0mepisode\u001b[0m\u001b[0;34m,\u001b[0m \u001b[0mtotal_reward\u001b[0m\u001b[0;34m)\u001b[0m\u001b[0;34m)\u001b[0m\u001b[0;34m\u001b[0m\u001b[0m\n\u001b[0;32m---> 35\u001b[0;31m                 \u001b[0mrewards\u001b[0m\u001b[0;34m.\u001b[0m\u001b[0mappend\u001b[0m\u001b[0;34m(\u001b[0m\u001b[0mtotal_reward\u001b[0m\u001b[0;34m)\u001b[0m\u001b[0;34m\u001b[0m\u001b[0m\n\u001b[0m\u001b[1;32m     36\u001b[0m                 \u001b[0;32mbreak\u001b[0m\u001b[0;34m\u001b[0m\u001b[0m\n",
      "\u001b[0;31mNameError\u001b[0m: name 'rewards' is not defined"
     ]
    }
   ],
   "source": [
    "\n",
    "if __name__ == '__main__':\n",
    "\n",
    "    env = gym.make('MountainCar-v0')\n",
    "\n",
    "    # Qテーブルの初期化\n",
    "    q_table = np.zeros((40, 40, 3))\n",
    "\n",
    "    observation = env.reset()\n",
    "\n",
    "    # 10000エピソードで学習する\n",
    "    for episode in range(10000):\n",
    "\n",
    "        total_reward = 0\n",
    "        observation = env.reset()\n",
    "\n",
    "        for _ in range(200):\n",
    "\n",
    "            # ε-グリーディ法で行動を選択\n",
    "            action = get_action(env, q_table, observation, episode)\n",
    "\n",
    "            # 車を動かし、観測結果・報酬・ゲーム終了FLG・詳細情報を取得\n",
    "            next_observation, reward, done, _ = env.step(action)\n",
    "\n",
    "            # Qテーブルの更新\n",
    "            q_table = update_q_table(q_table, action, observation, next_observation, reward, episode)\n",
    "            total_reward += reward\n",
    "\n",
    "            observation = next_observation\n",
    "\n",
    "            if done:\n",
    "                # doneがTrueになったら１エピソード終了\n",
    "                if episode%100 == 0:\n",
    "                    print('episode: {}, total_reward: {}'.format(episode, total_reward))\n",
    "                rewards.append(total_reward)\n",
    "                break\n"
   ]
  },
  {
   "cell_type": "code",
   "execution_count": 36,
   "metadata": {},
   "outputs": [
    {
     "name": "stdout",
     "output_type": "stream",
     "text": [
      "\u001b[33mWARN: You are calling 'step()' even though this environment has already returned done = True. You should always call 'reset()' once you receive 'done = True' -- any further steps are undefined behavior.\u001b[0m\n"
     ]
    }
   ],
   "source": []
  },
  {
   "cell_type": "code",
   "execution_count": null,
   "metadata": {},
   "outputs": [],
   "source": []
  }
 ],
 "metadata": {
  "kernelspec": {
   "display_name": "Python 3",
   "language": "python",
   "name": "python3"
  },
  "language_info": {
   "codemirror_mode": {
    "name": "ipython",
    "version": 3
   },
   "file_extension": ".py",
   "mimetype": "text/x-python",
   "name": "python",
   "nbconvert_exporter": "python",
   "pygments_lexer": "ipython3",
   "version": "3.6.4"
  }
 },
 "nbformat": 4,
 "nbformat_minor": 2
}
