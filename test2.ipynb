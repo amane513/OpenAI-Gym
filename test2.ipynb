{
 "cells": [
  {
   "cell_type": "code",
   "execution_count": 5,
   "metadata": {},
   "outputs": [
    {
     "name": "stdout",
     "output_type": "stream",
     "text": [
      "_________________________________________________________________\n",
      "Layer (type)                 Output Shape              Param #   \n",
      "=================================================================\n",
      "flatten_2 (Flatten)          (None, 4)                 0         \n",
      "_________________________________________________________________\n",
      "dense_5 (Dense)              (None, 16)                80        \n",
      "_________________________________________________________________\n",
      "activation_5 (Activation)    (None, 16)                0         \n",
      "_________________________________________________________________\n",
      "dense_6 (Dense)              (None, 16)                272       \n",
      "_________________________________________________________________\n",
      "activation_6 (Activation)    (None, 16)                0         \n",
      "_________________________________________________________________\n",
      "dense_7 (Dense)              (None, 16)                272       \n",
      "_________________________________________________________________\n",
      "activation_7 (Activation)    (None, 16)                0         \n",
      "_________________________________________________________________\n",
      "dense_8 (Dense)              (None, 2)                 34        \n",
      "_________________________________________________________________\n",
      "activation_8 (Activation)    (None, 2)                 0         \n",
      "=================================================================\n",
      "Total params: 658\n",
      "Trainable params: 658\n",
      "Non-trainable params: 0\n",
      "_________________________________________________________________\n",
      "None\n",
      "Training for 1000 steps ...\n"
     ]
    },
    {
     "name": "stderr",
     "output_type": "stream",
     "text": [
      "/Users/user/.pyenv/versions/anaconda3-5.1.0/envs/RL/lib/python3.6/site-packages/rl/memory.py:39: UserWarning: Not enough entries to sample without replacement. Consider increasing your warm-up phase to avoid oversampling!\n",
      "  warnings.warn('Not enough entries to sample without replacement. Consider increasing your warm-up phase to avoid oversampling!')\n"
     ]
    },
    {
     "name": "stdout",
     "output_type": "stream",
     "text": [
      "  31/1000: episode: 1, duration: 3.326s, episode steps: 31, steps per second: 9, episode reward: 31.000, mean reward: 1.000 [1.000, 1.000], mean action: 0.419 [0.000, 1.000], mean observation: 0.013 [-1.185, 1.776], loss: 0.461568, mean_absolute_error: 0.519549, mean_q: 0.094217\n"
     ]
    },
    {
     "name": "stderr",
     "output_type": "stream",
     "text": [
      "/Users/user/.pyenv/versions/anaconda3-5.1.0/envs/RL/lib/python3.6/site-packages/rl/memory.py:39: UserWarning: Not enough entries to sample without replacement. Consider increasing your warm-up phase to avoid oversampling!\n",
      "  warnings.warn('Not enough entries to sample without replacement. Consider increasing your warm-up phase to avoid oversampling!')\n"
     ]
    },
    {
     "name": "stdout",
     "output_type": "stream",
     "text": [
      "  44/1000: episode: 2, duration: 1.049s, episode steps: 13, steps per second: 12, episode reward: 13.000, mean reward: 1.000 [1.000, 1.000], mean action: 0.692 [0.000, 1.000], mean observation: -0.069 [-1.867, 1.224], loss: 0.355927, mean_absolute_error: 0.542988, mean_q: 0.284048\n",
      "  64/1000: episode: 3, duration: 0.450s, episode steps: 20, steps per second: 44, episode reward: 20.000, mean reward: 1.000 [1.000, 1.000], mean action: 0.550 [0.000, 1.000], mean observation: -0.070 [-1.375, 0.833], loss: 0.233937, mean_absolute_error: 0.553835, mean_q: 0.484757\n",
      "  83/1000: episode: 4, duration: 0.315s, episode steps: 19, steps per second: 60, episode reward: 19.000, mean reward: 1.000 [1.000, 1.000], mean action: 0.421 [0.000, 1.000], mean observation: 0.074 [-0.817, 1.505], loss: 0.116052, mean_absolute_error: 0.596797, mean_q: 0.800909\n",
      "  98/1000: episode: 5, duration: 0.252s, episode steps: 15, steps per second: 59, episode reward: 15.000, mean reward: 1.000 [1.000, 1.000], mean action: 0.600 [0.000, 1.000], mean observation: -0.090 [-1.368, 0.825], loss: 0.056205, mean_absolute_error: 0.665956, mean_q: 1.123300\n",
      " 114/1000: episode: 6, duration: 0.266s, episode steps: 16, steps per second: 60, episode reward: 16.000, mean reward: 1.000 [1.000, 1.000], mean action: 0.812 [0.000, 1.000], mean observation: -0.072 [-3.056, 1.962], loss: 0.039242, mean_absolute_error: 0.714153, mean_q: 1.289682\n",
      " 128/1000: episode: 7, duration: 0.241s, episode steps: 14, steps per second: 58, episode reward: 14.000, mean reward: 1.000 [1.000, 1.000], mean action: 0.429 [0.000, 1.000], mean observation: 0.111 [-0.934, 1.483], loss: 0.029938, mean_absolute_error: 0.756368, mean_q: 1.456779\n",
      " 151/1000: episode: 8, duration: 0.371s, episode steps: 23, steps per second: 62, episode reward: 23.000, mean reward: 1.000 [1.000, 1.000], mean action: 0.304 [0.000, 1.000], mean observation: 0.050 [-1.760, 2.679], loss: 0.030047, mean_absolute_error: 0.819830, mean_q: 1.585933\n",
      " 162/1000: episode: 9, duration: 0.752s, episode steps: 11, steps per second: 15, episode reward: 11.000, mean reward: 1.000 [1.000, 1.000], mean action: 0.273 [0.000, 1.000], mean observation: 0.133 [-1.133, 1.962], loss: 0.040780, mean_absolute_error: 0.892660, mean_q: 1.755095\n",
      " 175/1000: episode: 10, duration: 0.297s, episode steps: 13, steps per second: 44, episode reward: 13.000, mean reward: 1.000 [1.000, 1.000], mean action: 0.769 [0.000, 1.000], mean observation: -0.118 [-2.439, 1.549], loss: 0.039657, mean_absolute_error: 0.930894, mean_q: 1.840495\n",
      " 201/1000: episode: 11, duration: 0.435s, episode steps: 26, steps per second: 60, episode reward: 26.000, mean reward: 1.000 [1.000, 1.000], mean action: 0.346 [0.000, 1.000], mean observation: 0.032 [-1.588, 2.376], loss: 0.043344, mean_absolute_error: 0.986378, mean_q: 1.970993\n",
      " 240/1000: episode: 12, duration: 0.647s, episode steps: 39, steps per second: 60, episode reward: 39.000, mean reward: 1.000 [1.000, 1.000], mean action: 0.462 [0.000, 1.000], mean observation: 0.100 [-0.583, 1.767], loss: 0.053448, mean_absolute_error: 1.112860, mean_q: 2.219588\n",
      " 257/1000: episode: 13, duration: 0.283s, episode steps: 17, steps per second: 60, episode reward: 17.000, mean reward: 1.000 [1.000, 1.000], mean action: 0.529 [0.000, 1.000], mean observation: -0.083 [-1.097, 0.633], loss: 0.054404, mean_absolute_error: 1.218126, mean_q: 2.440026\n",
      " 270/1000: episode: 14, duration: 0.216s, episode steps: 13, steps per second: 60, episode reward: 13.000, mean reward: 1.000 [1.000, 1.000], mean action: 0.385 [0.000, 1.000], mean observation: 0.112 [-0.966, 1.634], loss: 0.081815, mean_absolute_error: 1.307669, mean_q: 2.593193\n",
      " 281/1000: episode: 15, duration: 0.182s, episode steps: 11, steps per second: 60, episode reward: 11.000, mean reward: 1.000 [1.000, 1.000], mean action: 0.273 [0.000, 1.000], mean observation: 0.099 [-0.992, 1.720], loss: 0.110874, mean_absolute_error: 1.358114, mean_q: 2.598298\n",
      " 295/1000: episode: 16, duration: 0.232s, episode steps: 14, steps per second: 60, episode reward: 14.000, mean reward: 1.000 [1.000, 1.000], mean action: 0.429 [0.000, 1.000], mean observation: 0.095 [-0.776, 1.276], loss: 0.081563, mean_absolute_error: 1.398024, mean_q: 2.753925\n",
      " 324/1000: episode: 17, duration: 0.485s, episode steps: 29, steps per second: 60, episode reward: 29.000, mean reward: 1.000 [1.000, 1.000], mean action: 0.448 [0.000, 1.000], mean observation: -0.111 [-1.050, 0.609], loss: 0.109268, mean_absolute_error: 1.512278, mean_q: 2.915545\n",
      " 346/1000: episode: 18, duration: 0.366s, episode steps: 22, steps per second: 60, episode reward: 22.000, mean reward: 1.000 [1.000, 1.000], mean action: 0.500 [0.000, 1.000], mean observation: -0.087 [-1.083, 0.401], loss: 0.122233, mean_absolute_error: 1.614151, mean_q: 3.135024\n",
      " 364/1000: episode: 19, duration: 0.299s, episode steps: 18, steps per second: 60, episode reward: 18.000, mean reward: 1.000 [1.000, 1.000], mean action: 0.667 [0.000, 1.000], mean observation: -0.057 [-2.033, 1.206], loss: 0.104993, mean_absolute_error: 1.698569, mean_q: 3.292580\n",
      " 399/1000: episode: 20, duration: 0.582s, episode steps: 35, steps per second: 60, episode reward: 35.000, mean reward: 1.000 [1.000, 1.000], mean action: 0.600 [0.000, 1.000], mean observation: -0.019 [-2.301, 1.380], loss: 0.121279, mean_absolute_error: 1.801342, mean_q: 3.500536\n",
      " 420/1000: episode: 21, duration: 0.351s, episode steps: 21, steps per second: 60, episode reward: 21.000, mean reward: 1.000 [1.000, 1.000], mean action: 0.381 [0.000, 1.000], mean observation: 0.103 [-0.970, 1.881], loss: 0.152880, mean_absolute_error: 1.913778, mean_q: 3.665123\n",
      " 437/1000: episode: 22, duration: 0.284s, episode steps: 17, steps per second: 60, episode reward: 17.000, mean reward: 1.000 [1.000, 1.000], mean action: 0.471 [0.000, 1.000], mean observation: 0.073 [-0.987, 1.472], loss: 0.155656, mean_absolute_error: 2.012915, mean_q: 3.864781\n",
      " 472/1000: episode: 23, duration: 0.581s, episode steps: 35, steps per second: 60, episode reward: 35.000, mean reward: 1.000 [1.000, 1.000], mean action: 0.543 [0.000, 1.000], mean observation: -0.066 [-1.689, 0.658], loss: 0.192354, mean_absolute_error: 2.103046, mean_q: 3.998514\n",
      " 506/1000: episode: 24, duration: 0.567s, episode steps: 34, steps per second: 60, episode reward: 34.000, mean reward: 1.000 [1.000, 1.000], mean action: 0.471 [0.000, 1.000], mean observation: 0.113 [-0.607, 1.691], loss: 0.143398, mean_absolute_error: 2.247021, mean_q: 4.354507\n",
      " 523/1000: episode: 25, duration: 0.283s, episode steps: 17, steps per second: 60, episode reward: 17.000, mean reward: 1.000 [1.000, 1.000], mean action: 0.471 [0.000, 1.000], mean observation: 0.059 [-1.184, 1.700], loss: 0.134736, mean_absolute_error: 2.354984, mean_q: 4.578241\n",
      " 541/1000: episode: 26, duration: 0.299s, episode steps: 18, steps per second: 60, episode reward: 18.000, mean reward: 1.000 [1.000, 1.000], mean action: 0.333 [0.000, 1.000], mean observation: 0.091 [-1.171, 2.183], loss: 0.131534, mean_absolute_error: 2.405619, mean_q: 4.640615\n",
      " 558/1000: episode: 27, duration: 0.284s, episode steps: 17, steps per second: 60, episode reward: 17.000, mean reward: 1.000 [1.000, 1.000], mean action: 0.294 [0.000, 1.000], mean observation: 0.046 [-1.570, 2.308], loss: 0.168307, mean_absolute_error: 2.485159, mean_q: 4.797628\n",
      " 574/1000: episode: 28, duration: 1.015s, episode steps: 16, steps per second: 16, episode reward: 16.000, mean reward: 1.000 [1.000, 1.000], mean action: 0.438 [0.000, 1.000], mean observation: 0.084 [-0.640, 1.126], loss: 0.223042, mean_absolute_error: 2.543488, mean_q: 4.827612\n",
      " 588/1000: episode: 29, duration: 0.350s, episode steps: 14, steps per second: 40, episode reward: 14.000, mean reward: 1.000 [1.000, 1.000], mean action: 0.643 [0.000, 1.000], mean observation: -0.082 [-1.549, 0.842], loss: 0.298366, mean_absolute_error: 2.619438, mean_q: 4.888960\n",
      " 607/1000: episode: 30, duration: 0.316s, episode steps: 19, steps per second: 60, episode reward: 19.000, mean reward: 1.000 [1.000, 1.000], mean action: 0.632 [0.000, 1.000], mean observation: -0.086 [-1.928, 1.039], loss: 0.216606, mean_absolute_error: 2.679566, mean_q: 5.134616\n",
      " 628/1000: episode: 31, duration: 0.349s, episode steps: 21, steps per second: 60, episode reward: 21.000, mean reward: 1.000 [1.000, 1.000], mean action: 0.381 [0.000, 1.000], mean observation: 0.043 [-1.204, 1.798], loss: 0.210826, mean_absolute_error: 2.732724, mean_q: 5.211196\n"
     ]
    },
    {
     "name": "stdout",
     "output_type": "stream",
     "text": [
      " 670/1000: episode: 32, duration: 0.699s, episode steps: 42, steps per second: 60, episode reward: 42.000, mean reward: 1.000 [1.000, 1.000], mean action: 0.476 [0.000, 1.000], mean observation: 0.020 [-0.645, 1.262], loss: 0.296170, mean_absolute_error: 2.843000, mean_q: 5.404837\n",
      " 694/1000: episode: 33, duration: 0.401s, episode steps: 24, steps per second: 60, episode reward: 24.000, mean reward: 1.000 [1.000, 1.000], mean action: 0.417 [0.000, 1.000], mean observation: 0.076 [-0.966, 1.785], loss: 0.285918, mean_absolute_error: 2.963232, mean_q: 5.650752\n",
      " 710/1000: episode: 34, duration: 0.264s, episode steps: 16, steps per second: 61, episode reward: 16.000, mean reward: 1.000 [1.000, 1.000], mean action: 0.375 [0.000, 1.000], mean observation: 0.097 [-0.927, 1.519], loss: 0.242407, mean_absolute_error: 3.042132, mean_q: 5.850888\n",
      " 764/1000: episode: 35, duration: 0.902s, episode steps: 54, steps per second: 60, episode reward: 54.000, mean reward: 1.000 [1.000, 1.000], mean action: 0.444 [0.000, 1.000], mean observation: -0.060 [-1.547, 1.592], loss: 0.265181, mean_absolute_error: 3.183196, mean_q: 6.168866\n",
      " 790/1000: episode: 36, duration: 0.432s, episode steps: 26, steps per second: 60, episode reward: 26.000, mean reward: 1.000 [1.000, 1.000], mean action: 0.423 [0.000, 1.000], mean observation: 0.073 [-0.829, 1.786], loss: 0.378876, mean_absolute_error: 3.353732, mean_q: 6.399404\n",
      " 809/1000: episode: 37, duration: 0.316s, episode steps: 19, steps per second: 60, episode reward: 19.000, mean reward: 1.000 [1.000, 1.000], mean action: 0.579 [0.000, 1.000], mean observation: -0.089 [-1.624, 0.815], loss: 0.306561, mean_absolute_error: 3.412534, mean_q: 6.583453\n",
      " 841/1000: episode: 38, duration: 0.549s, episode steps: 32, steps per second: 58, episode reward: 32.000, mean reward: 1.000 [1.000, 1.000], mean action: 0.500 [0.000, 1.000], mean observation: 0.093 [-0.934, 1.494], loss: 0.258971, mean_absolute_error: 3.536581, mean_q: 6.869116\n",
      " 864/1000: episode: 39, duration: 0.382s, episode steps: 23, steps per second: 60, episode reward: 23.000, mean reward: 1.000 [1.000, 1.000], mean action: 0.522 [0.000, 1.000], mean observation: -0.102 [-1.257, 0.416], loss: 0.281859, mean_absolute_error: 3.640354, mean_q: 7.111533\n",
      " 927/1000: episode: 40, duration: 1.050s, episode steps: 63, steps per second: 60, episode reward: 63.000, mean reward: 1.000 [1.000, 1.000], mean action: 0.524 [0.000, 1.000], mean observation: 0.218 [-0.746, 1.685], loss: 0.268780, mean_absolute_error: 3.795328, mean_q: 7.468026\n",
      " 961/1000: episode: 41, duration: 0.568s, episode steps: 34, steps per second: 60, episode reward: 34.000, mean reward: 1.000 [1.000, 1.000], mean action: 0.441 [0.000, 1.000], mean observation: 0.107 [-0.995, 2.035], loss: 0.222330, mean_absolute_error: 4.014330, mean_q: 7.940499\n",
      " 979/1000: episode: 42, duration: 0.298s, episode steps: 18, steps per second: 60, episode reward: 18.000, mean reward: 1.000 [1.000, 1.000], mean action: 0.333 [0.000, 1.000], mean observation: 0.065 [-1.230, 2.051], loss: 0.314527, mean_absolute_error: 4.086468, mean_q: 8.065705\n",
      " 997/1000: episode: 43, duration: 0.306s, episode steps: 18, steps per second: 59, episode reward: 18.000, mean reward: 1.000 [1.000, 1.000], mean action: 0.611 [0.000, 1.000], mean observation: -0.043 [-1.410, 0.830], loss: 0.270787, mean_absolute_error: 4.182413, mean_q: 8.247598\n",
      "done, took 21.972 seconds\n",
      "Testing for 5 episodes ...\n",
      "Episode 1: reward: 192.000, steps: 192\n",
      "Episode 2: reward: 188.000, steps: 188\n",
      "Episode 3: reward: 200.000, steps: 200\n",
      "Episode 4: reward: 200.000, steps: 200\n",
      "Episode 5: reward: 200.000, steps: 200\n"
     ]
    },
    {
     "data": {
      "text/plain": [
       "<keras.callbacks.History at 0xb410fd9e8>"
      ]
     },
     "execution_count": 5,
     "metadata": {},
     "output_type": "execute_result"
    }
   ],
   "source": [
    "import numpy as np\n",
    "import gym\n",
    "from gym import wrappers # 追加\n",
    "\n",
    "from keras.models import Sequential\n",
    "from keras.layers import Dense, Activation, Flatten\n",
    "from keras.optimizers import Adam\n",
    "\n",
    "from rl.agents.dqn import DQNAgent\n",
    "from rl.policy import BoltzmannQPolicy\n",
    "from rl.memory import SequentialMemory\n",
    "\n",
    "force=True\n",
    "\n",
    "ENV_NAME = 'CartPole-v0'\n",
    "\n",
    "# Get the environment and extract the number of actions.\n",
    "env = gym.make(ENV_NAME)\n",
    "env = wrappers.Monitor(env, './CartPole', force=True) #　追加\n",
    "np.random.seed(123)\n",
    "env.seed(123)\n",
    "nb_actions = env.action_space.n\n",
    "\n",
    "# Next, we build a very simple model.\n",
    "model = Sequential()\n",
    "model.add(Flatten(input_shape=(1,) + env.observation_space.shape))\n",
    "model.add(Dense(16))\n",
    "model.add(Activation('relu'))\n",
    "model.add(Dense(16))\n",
    "model.add(Activation('relu'))\n",
    "model.add(Dense(16))\n",
    "model.add(Activation('relu'))\n",
    "model.add(Dense(nb_actions))\n",
    "model.add(Activation('linear'))\n",
    "print(model.summary())\n",
    "\n",
    "# Finally, we configure and compile our agent. You can use every built-in Keras optimizer and\n",
    "# even the metrics!\n",
    "memory = SequentialMemory(limit=50000, window_length=1)\n",
    "policy = BoltzmannQPolicy()\n",
    "dqn = DQNAgent(model=model, nb_actions=nb_actions, memory=memory, nb_steps_warmup=10,\n",
    "               target_model_update=1e-2, policy=policy)\n",
    "dqn.compile(Adam(lr=1e-3), metrics=['mae'])\n",
    "\n",
    "# Okay, now it's time to learn something! We visualize the training here for show, but this\n",
    "# slows down training quite a lot. You can always safely abort the training prematurely using\n",
    "# Ctrl + C.\n",
    "dqn.fit(env, nb_steps=1000, visualize=True, verbose=2)\n",
    "\n",
    "# After training is done, we save the final weights.\n",
    "dqn.save_weights('dqn_{}_weights.h5f'.format(ENV_NAME), overwrite=True)\n",
    "\n",
    "# burn off the remaning steps of the episode\n",
    "done = False\n",
    "while not done:\n",
    "    _,_,done,_ = env.step(0)\n",
    "\n",
    "# Finally, evaluate our algorithm for 5 episodes.\n",
    "dqn.test(env, nb_episodes=5, visualize=True)"
   ]
  }
 ],
 "metadata": {
  "kernelspec": {
   "display_name": "Python 3",
   "language": "python",
   "name": "python3"
  },
  "language_info": {
   "codemirror_mode": {
    "name": "ipython",
    "version": 3
   },
   "file_extension": ".py",
   "mimetype": "text/x-python",
   "name": "python",
   "nbconvert_exporter": "python",
   "pygments_lexer": "ipython3",
   "version": "3.6.6"
  }
 },
 "nbformat": 4,
 "nbformat_minor": 2
}
